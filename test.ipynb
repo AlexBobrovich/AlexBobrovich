{
 "cells": [
  {
   "cell_type": "code",
   "execution_count": 3,
   "id": "d72cb0a2",
   "metadata": {},
   "outputs": [
    {
     "ename": "SyntaxError",
     "evalue": "Missing parentheses in call to 'print'. Did you mean print('hello alex')? (Temp/ipykernel_10244/4164512821.py, line 1)",
     "output_type": "error",
     "traceback": [
      "\u001b[1;36m  File \u001b[1;32m\"C:\\Users\\abobr\\AppData\\Local\\Temp/ipykernel_10244/4164512821.py\"\u001b[1;36m, line \u001b[1;32m1\u001b[0m\n\u001b[1;33m    print 'hello alex'\u001b[0m\n\u001b[1;37m          ^\u001b[0m\n\u001b[1;31mSyntaxError\u001b[0m\u001b[1;31m:\u001b[0m Missing parentheses in call to 'print'. Did you mean print('hello alex')?\n"
     ]
    }
   ],
   "source": [
    "print 'hello alex'"
   ]
  },
  {
   "cell_type": "code",
   "execution_count": 4,
   "id": "15f4d26e",
   "metadata": {},
   "outputs": [
    {
     "ename": "SyntaxError",
     "evalue": "Missing parentheses in call to 'print'. Did you mean print('hello alex')? (Temp/ipykernel_10244/4164512821.py, line 1)",
     "output_type": "error",
     "traceback": [
      "\u001b[1;36m  File \u001b[1;32m\"C:\\Users\\abobr\\AppData\\Local\\Temp/ipykernel_10244/4164512821.py\"\u001b[1;36m, line \u001b[1;32m1\u001b[0m\n\u001b[1;33m    print 'hello alex'\u001b[0m\n\u001b[1;37m          ^\u001b[0m\n\u001b[1;31mSyntaxError\u001b[0m\u001b[1;31m:\u001b[0m Missing parentheses in call to 'print'. Did you mean print('hello alex')?\n"
     ]
    }
   ],
   "source": [
    "print 'hello alex'"
   ]
  },
  {
   "cell_type": "code",
   "execution_count": 5,
   "id": "ef6127f4",
   "metadata": {},
   "outputs": [
    {
     "name": "stdout",
     "output_type": "stream",
     "text": [
      "hello alex\n"
     ]
    }
   ],
   "source": [
    "print ('hello alex')"
   ]
  },
  {
   "cell_type": "code",
   "execution_count": null,
   "id": "2c9d2a41",
   "metadata": {},
   "outputs": [],
   "source": []
  }
 ],
 "metadata": {
  "kernelspec": {
   "display_name": "Python 3 (ipykernel)",
   "language": "python",
   "name": "python3"
  },
  "language_info": {
   "codemirror_mode": {
    "name": "ipython",
    "version": 3
   },
   "file_extension": ".py",
   "mimetype": "text/x-python",
   "name": "python",
   "nbconvert_exporter": "python",
   "pygments_lexer": "ipython3",
   "version": "3.9.7"
  }
 },
 "nbformat": 4,
 "nbformat_minor": 5
}
